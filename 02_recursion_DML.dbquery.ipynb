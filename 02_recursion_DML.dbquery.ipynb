{
 "cells": [
  {
   "cell_type": "code",
   "execution_count": 0,
   "metadata": {
    "application/vnd.databricks.v1+cell": {
     "cellMetadata": {},
     "inputWidgets": {},
     "nuid": "6494b0b8-cd5f-4ba1-a617-93ad22dae3c4",
     "showTitle": false,
     "tableResultSettingsMap": {},
     "title": ""
    }
   },
   "outputs": [],
   "source": [
    "-- TABLEの定義\n",
    "CREATE TABLE IF NOT EXISTS products_recursion (id INT, name VARCHAR(255) NOT NULL); \n",
    "INSERT INTO products_recursion (id, name) VALUES (1, 'バナソニックレンジ'), (2, 'ゾニーカメラ'), (3, 'とうじばエアコン'), (4, 'シャーブテレビ');\n",
    "TRUNCATE TABLE products_recursion;\n",
    "\n",
    "-- カラム、データの追加\n",
    "ALTER TABLE products_recursion ADD COLUMN price INT;\n",
    "INSERT INTO products_recursion (id, name, price) VALUES (1, 'バナソニックレンジ', 50000), (2, 'ゾニーカメラ', 100000), (3, 'とうじばエアコン', 200000), (4, 'シャーブテレビ', 500000);\n",
    "\n",
    "-- データの抽出\n",
    "SELECT * FROM products_recursion\n",
    "WHERE price IN (100000, 200000);\n",
    "\n",
    "SELECT * FROM products_recursion\n",
    "WHERE price NOT IN (100000, 200000);\n",
    "\n",
    "-- テーブルの変更、データの追加\n",
    "TRUNCATE TABLE products_recursion;\n",
    "ALTER TABLE products_recursion ADD COLUMN model_year INT;\n",
    "INSERT INTO products_recursion (id, name, price, model_year) VALUES (1, 'バナソニックレンジ', 50000, 2012), (2, 'ゾニーカメラ', 100000, 2020), (3, 'とうじばエアコン', 200000, 2016), (4, 'シャーブテレビ', 500000, NULL);\n",
    "SELECT * FROM products_recursion;\n",
    "\n",
    "SELECT * FROM products_recursion WHERE model_year IN (2020);\n",
    "SELECT * FROM products_recursion WHERE model_year NOT IN (2020);\n",
    "\n",
    "-- between\n",
    "SELECT * FROM products_recursion\n",
    "WHERE price between 100000 and 200000;\n",
    "\n",
    "SELECT * FROM products_recursion\n",
    "WHERE price >= 100000 and price <= 200000;\n",
    "\n",
    "-- LIKE\n",
    "SELECT * FROM products_recursion\n",
    "WHERE name LIKE 'ゾニー%';\n",
    "\n",
    "SELECT * FROM products_recursion\n",
    "WHERE name LIKE '%テレビ';\n",
    "\n",
    "SELECT * FROM products_recursion\n",
    "WHERE name LIKE '%じば%';\n",
    "\n",
    "SELECT * FROM products_recursion\n",
    "WHERE name LIKE '%ゾニー%';\n",
    "\n",
    "SELECT * FROM products_recursion\n",
    "WHERE name LIKE '_%ゾニー%_';\n",
    "\n",
    "SELECT * FROM products_recursion\n",
    "WHERE name LIKE '_%じば%_';\n",
    "\n",
    "SELECT * FROM products_recursion\n",
    "WHERE name LIKE 'ゾニー___';\n",
    "\n",
    "-- IS NULL\n",
    "SELECT * FROM products_recursion\n",
    "WHERE price IS NULL;\n",
    "\n",
    "SELECT * FROM products_recursion\n",
    "WHERE price IS NOT NULL;\n",
    "\n",
    "SELECT * FROM products_recursion\n",
    "ORDER BY price ASC;\n",
    "\n",
    "DROP TABLE products_recursion;\n",
    "SELECT * FROM products_recursion;\n"
   ]
  }
 ],
 "metadata": {
  "application/vnd.databricks.v1+notebook": {
   "computePreferences": null,
   "dashboards": [],
   "environmentMetadata": null,
   "inputWidgetPreferences": null,
   "language": "sql",
   "notebookMetadata": {
    "sqlQueryOptions": {
     "applyAutoLimit": true,
     "catalog": "users",
     "schema": "yukiteru_koide"
    }
   },
   "notebookName": "02_recursion_DML.dbquery.ipynb",
   "widgets": {}
  },
  "language_info": {
   "name": "sql"
  }
 },
 "nbformat": 4,
 "nbformat_minor": 0
}
