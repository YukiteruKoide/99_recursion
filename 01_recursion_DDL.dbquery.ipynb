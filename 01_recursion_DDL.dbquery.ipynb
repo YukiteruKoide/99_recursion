{
 "cells": [
  {
   "cell_type": "code",
   "execution_count": 0,
   "metadata": {
    "application/vnd.databricks.v1+cell": {
     "cellMetadata": {},
     "inputWidgets": {},
     "nuid": "35e1dfda-6614-4f2a-82d8-4f622b7bc4df",
     "showTitle": false,
     "tableResultSettingsMap": {},
     "title": ""
    }
   },
   "outputs": [],
   "source": [
    "CREATE TABLE departments_recursion (id INT, name VARCHAR(255), start_date DATE);\n",
    "-- DROP TABLE IF EXISTS departments;\n",
    "\n",
    "-- dbsqlではindexはつけれない\n",
    "-- ALTER TABLE departments ADD INDEX id_index (id);\n",
    "\n",
    "CREATE TABLE members_recursion (id INT PRIMARY KEY);\n",
    "-- DROP TABLE IF EXISTS members;\n",
    "SHOW COLUMNS FROM members;\n",
    "\n",
    "CREATE TABLE authors_recursion (id INT PRIMARY KEY);\n",
    "-- DROP TABLE IF EXISTS authors;\n",
    "\n",
    "CREATE TABLE books_recursion (\n",
    "  id INT, \n",
    "  author_id INT, \n",
    "  FOREIGN KEY (author_id) REFERENCES authors_recursion(id)\n",
    ");\n",
    "\n",
    "-- DROP TABLE IF EXISTS books;\n",
    "\n",
    "SHOW COLUMNS FROM authors;\n",
    "\n",
    "SHOW COLUMNS FROM books;\n",
    "\n",
    "CREATE TABLE products_recursion (id INT, name VARCHAR(255) NOT NULL);\n",
    "\n",
    "-- DBSQLでは実施不可\n",
    "-- CREATE TABLE employees_recursion (\n",
    "--   id INT, \n",
    "--   name VARCHAR(255), \n",
    "--   email VARCHAR(255), \n",
    "--   CONSTRAINT unique_email UNIQUE (email)\n",
    "-- );\n",
    "\n",
    "CREATE TABLE users_recursion (id INT PRIMARY KEY, age INT);\n",
    "\n",
    "ALTER TABLE users_recursion ADD CONSTRAINT age_check CHECK(age >= 18);\n",
    "\n",
    "DESCRIBE DETAIL users_recursion\n",
    "\n",
    "ALTER TABLE departments_recursion RENAME TO new_departments_recursion;\n",
    "\n",
    "SHOW TABLES;\n",
    "\n",
    "ALTER TABLE new_departments_recursion SET TBLPROPERTIES (\n",
    "  'delta.minReaderVersion' = '2',\n",
    "  'delta.minWriterVersion' = '5',\n",
    "  'delta.columnMapping.mode' = 'name'\n",
    ");\n",
    "\n",
    "ALTER TABLE new_departments_recursion RENAME COLUMN start_date TO start_on;\n",
    "\n",
    "DESCRIBE new_departments_recursion\n",
    "\n",
    "ALTER TABLE new_departments_recursion SET TBLPROPERTIES ('delta.enableTypeWidening' = 'true');\n",
    "ALTER TABLE new_departments_recursion ALTER COLUMN id TYPE BIGINT;\n",
    "\n",
    "-- ALTER TABLE new_departments_recursion ADD COLUMNS (sequence INT NOT NULL);\n",
    "\n",
    "DROP TABLE new_departments_recursion;\n",
    "DROP TABLE members_recursion;\n",
    "DROP TABLE authors_recursion;\n",
    "DROP TABLE books_recursion;\n",
    "DROP TABLE products_recursion;\n",
    "DROP TABLE users_recursion;\n",
    "DROP TABLE departments_recursion\n"
   ]
  }
 ],
 "metadata": {
  "application/vnd.databricks.v1+notebook": {
   "computePreferences": null,
   "dashboards": [],
   "environmentMetadata": null,
   "inputWidgetPreferences": null,
   "language": "sql",
   "notebookMetadata": {
    "sqlQueryOptions": {
     "applyAutoLimit": true,
     "catalog": "users",
     "schema": "yukiteru_koide"
    }
   },
   "notebookName": "01_recursion_DDL.dbquery.ipynb",
   "widgets": {}
  },
  "language_info": {
   "name": "sql"
  }
 },
 "nbformat": 4,
 "nbformat_minor": 0
}
